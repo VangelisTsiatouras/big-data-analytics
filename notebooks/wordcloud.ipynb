{
 "cells": [
  {
   "cell_type": "markdown",
   "source": [
    "Install Required Packages"
   ],
   "metadata": {
    "collapsed": false
   }
  },
  {
   "cell_type": "code",
   "execution_count": 5,
   "outputs": [
    {
     "name": "stdout",
     "output_type": "stream",
     "text": [
      "Requirement already satisfied: numpy in /home/vangelis/.local/share/virtualenvs/big-data-analytics/lib/python3.8/site-packages (1.19.5)\r\n",
      "Requirement already satisfied: pandas in /home/vangelis/.local/share/virtualenvs/big-data-analytics/lib/python3.8/site-packages (1.2.1)\r\n",
      "Requirement already satisfied: scikit-learn in /home/vangelis/.local/share/virtualenvs/big-data-analytics/lib/python3.8/site-packages (0.24.1)\r\n",
      "Requirement already satisfied: wordcloud in /home/vangelis/.local/share/virtualenvs/big-data-analytics/lib/python3.8/site-packages (1.8.1)\r\n",
      "Requirement already satisfied: matplotlib in /home/vangelis/.local/share/virtualenvs/big-data-analytics/lib/python3.8/site-packages (3.3.3)\r\n",
      "Requirement already satisfied: kiwisolver>=1.0.1 in /home/vangelis/.local/share/virtualenvs/big-data-analytics/lib/python3.8/site-packages (from matplotlib) (1.3.1)\r\n",
      "Requirement already satisfied: pyparsing!=2.0.4,!=2.1.2,!=2.1.6,>=2.0.3 in /home/vangelis/.local/share/virtualenvs/big-data-analytics/lib/python3.8/site-packages (from matplotlib) (2.4.7)\r\n",
      "Requirement already satisfied: python-dateutil>=2.1 in /home/vangelis/.local/share/virtualenvs/big-data-analytics/lib/python3.8/site-packages (from matplotlib) (2.8.1)\r\n",
      "Requirement already satisfied: pillow>=6.2.0 in /home/vangelis/.local/share/virtualenvs/big-data-analytics/lib/python3.8/site-packages (from matplotlib) (8.1.0)\r\n",
      "Requirement already satisfied: cycler>=0.10 in /home/vangelis/.local/share/virtualenvs/big-data-analytics/lib/python3.8/site-packages (from matplotlib) (0.10.0)\r\n",
      "Requirement already satisfied: six in /home/vangelis/.local/share/virtualenvs/big-data-analytics/lib/python3.8/site-packages (from cycler>=0.10->matplotlib) (1.15.0)\r\n",
      "Requirement already satisfied: pytz>=2017.3 in /home/vangelis/.local/share/virtualenvs/big-data-analytics/lib/python3.8/site-packages (from pandas) (2020.5)\r\n",
      "Requirement already satisfied: scipy>=0.19.1 in /home/vangelis/.local/share/virtualenvs/big-data-analytics/lib/python3.8/site-packages (from scikit-learn) (1.6.0)\r\n",
      "Requirement already satisfied: threadpoolctl>=2.0.0 in /home/vangelis/.local/share/virtualenvs/big-data-analytics/lib/python3.8/site-packages (from scikit-learn) (2.1.0)\r\n",
      "Requirement already satisfied: joblib>=0.11 in /home/vangelis/.local/share/virtualenvs/big-data-analytics/lib/python3.8/site-packages (from scikit-learn) (1.0.0)\r\n",
      "\u001B[33mWARNING: You are using pip version 20.3.3; however, version 21.0 is available.\r\n",
      "You should consider upgrading via the '/home/vangelis/.virtualenvs/big-data-analytics/bin/python -m pip install --upgrade pip' command.\u001B[0m\r\n"
     ]
    }
   ],
   "source": [
    "! pip install numpy pandas scikit-learn wordcloud matplotlib"
   ],
   "metadata": {
    "collapsed": false,
    "pycharm": {
     "name": "#%%\n"
    }
   }
  },
  {
   "cell_type": "markdown",
   "source": [
    "Imports"
   ],
   "metadata": {
    "collapsed": false,
    "pycharm": {
     "name": "#%% md\n"
    }
   }
  },
  {
   "cell_type": "code",
   "execution_count": 6,
   "outputs": [],
   "source": [
    "import pandas as pd\n",
    "import matplotlib.pyplot as plt\n",
    "import numpy as np\n",
    "\n",
    "from collections import Counter\n",
    "from wordcloud import WordCloud, STOPWORDS"
   ],
   "metadata": {
    "collapsed": false,
    "pycharm": {
     "name": "#%%\n"
    }
   }
  },
  {
   "cell_type": "markdown",
   "source": [
    "Read data"
   ],
   "metadata": {
    "collapsed": false,
    "pycharm": {
     "name": "#%% md\n"
    }
   }
  },
  {
   "cell_type": "code",
   "execution_count": 7,
   "outputs": [],
   "source": [
    "df = pd.read_csv('../assist_material/datasets/extracted/datasets2020/datasets/q1/train.csv', sep=',')\n",
    "df.columns = ['id', 'title', 'content', 'label']\n",
    "test_df = pd.read_csv('../assist_material/datasets/extracted/datasets2020/datasets/q1/test_without_labels.csv', sep=',')\n",
    "test_df.columns = ['id', 'title', 'content']"
   ],
   "metadata": {
    "collapsed": false,
    "pycharm": {
     "name": "#%%\n"
    }
   }
  },
  {
   "cell_type": "code",
   "execution_count": null,
   "metadata": {
    "collapsed": true,
    "pycharm": {
     "name": "#%%\n",
     "is_executing": true
    }
   },
   "outputs": [],
   "source": [
    "words_per_category = dict()\n",
    "stop_words = STOPWORDS.update(['will', 's', 't', 'one', 'new', 'said', 'say', 'says'])\n",
    "word_cloud = WordCloud(stopwords=stop_words, background_color='white', width=1200, height=1000)\n",
    "\n",
    "for row in df.itertuples(index=False):\n",
    "    if row.label not in words_per_category:\n",
    "        counts_line = word_cloud.process_text(row.content + ' ' + row.title)\n",
    "        words_per_category[row.label] = Counter(counts_line)\n",
    "    else:\n",
    "        counts_line = word_cloud.process_text(row.content + ' ' + row.title)\n",
    "        words_per_category[row.label] += Counter(counts_line)\n",
    "\n",
    "print('Finished word counting')\n",
    "\n",
    "for category, words_frequencies in words_per_category.items():\n",
    "    word_cloud_img = word_cloud.generate_from_frequencies(words_frequencies)\n",
    "    plt.figure()\n",
    "    plt.imshow(word_cloud_img)\n",
    "    plt.title(category)\n",
    "    plt.axis('off')\n",
    "    plt.draw()\n",
    "plt.show()"
   ]
  }
 ],
 "metadata": {
  "kernelspec": {
   "display_name": "Python 3",
   "language": "python",
   "name": "python3"
  },
  "language_info": {
   "codemirror_mode": {
    "name": "ipython",
    "version": 2
   },
   "file_extension": ".py",
   "mimetype": "text/x-python",
   "name": "python",
   "nbconvert_exporter": "python",
   "pygments_lexer": "ipython2",
   "version": "2.7.6"
  }
 },
 "nbformat": 4,
 "nbformat_minor": 0
}