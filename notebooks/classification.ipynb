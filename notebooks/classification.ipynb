{
 "cells": [
  {
   "cell_type": "markdown",
   "metadata": {
    "pycharm": {
     "name": "#%% md\n"
    }
   },
   "source": [
    "### Install Required Packages"
   ]
  },
  {
   "cell_type": "code",
   "execution_count": 1,
   "metadata": {
    "collapsed": false,
    "jupyter": {
     "outputs_hidden": false
    },
    "pycharm": {
     "name": "#%%\n"
    }
   },
   "outputs": [
    {
     "name": "stdout",
     "output_type": "stream",
     "text": [
      "Requirement already satisfied: numpy in /home/vangelis/.local/share/virtualenvs/big-data-analytics/lib/python3.8/site-packages (1.19.5)\n",
      "Requirement already satisfied: pandas in /home/vangelis/.local/share/virtualenvs/big-data-analytics/lib/python3.8/site-packages (1.2.1)\n",
      "Requirement already satisfied: scikit-learn in /home/vangelis/.local/share/virtualenvs/big-data-analytics/lib/python3.8/site-packages (0.24.1)\n",
      "Requirement already satisfied: wordcloud in /home/vangelis/.local/share/virtualenvs/big-data-analytics/lib/python3.8/site-packages (1.8.1)\n",
      "Requirement already satisfied: matplotlib in /home/vangelis/.local/share/virtualenvs/big-data-analytics/lib/python3.8/site-packages (3.3.3)\n",
      "Requirement already satisfied: pillow>=6.2.0 in /home/vangelis/.local/share/virtualenvs/big-data-analytics/lib/python3.8/site-packages (from matplotlib) (8.1.0)\n",
      "Requirement already satisfied: pyparsing!=2.0.4,!=2.1.2,!=2.1.6,>=2.0.3 in /home/vangelis/.local/share/virtualenvs/big-data-analytics/lib/python3.8/site-packages (from matplotlib) (2.4.7)\n",
      "Requirement already satisfied: cycler>=0.10 in /home/vangelis/.local/share/virtualenvs/big-data-analytics/lib/python3.8/site-packages (from matplotlib) (0.10.0)\n",
      "Requirement already satisfied: python-dateutil>=2.1 in /home/vangelis/.local/share/virtualenvs/big-data-analytics/lib/python3.8/site-packages (from matplotlib) (2.8.1)\n",
      "Requirement already satisfied: kiwisolver>=1.0.1 in /home/vangelis/.local/share/virtualenvs/big-data-analytics/lib/python3.8/site-packages (from matplotlib) (1.3.1)\n",
      "Requirement already satisfied: six in /home/vangelis/.local/share/virtualenvs/big-data-analytics/lib/python3.8/site-packages (from cycler>=0.10->matplotlib) (1.15.0)\n",
      "Requirement already satisfied: pytz>=2017.3 in /home/vangelis/.local/share/virtualenvs/big-data-analytics/lib/python3.8/site-packages (from pandas) (2020.5)\n",
      "Requirement already satisfied: joblib>=0.11 in /home/vangelis/.local/share/virtualenvs/big-data-analytics/lib/python3.8/site-packages (from scikit-learn) (1.0.0)\n",
      "Requirement already satisfied: scipy>=0.19.1 in /home/vangelis/.local/share/virtualenvs/big-data-analytics/lib/python3.8/site-packages (from scikit-learn) (1.6.0)\n",
      "Requirement already satisfied: threadpoolctl>=2.0.0 in /home/vangelis/.local/share/virtualenvs/big-data-analytics/lib/python3.8/site-packages (from scikit-learn) (2.1.0)\n"
     ]
    }
   ],
   "source": [
    "! pip install numpy pandas scikit-learn wordcloud matplotlib"
   ]
  },
  {
   "cell_type": "markdown",
   "metadata": {},
   "source": [
    "### Imports"
   ]
  },
  {
   "cell_type": "code",
   "execution_count": 2,
   "metadata": {
    "collapsed": false,
    "jupyter": {
     "outputs_hidden": false
    },
    "pycharm": {
     "name": "#%%\n"
    }
   },
   "outputs": [],
   "source": [
    "import pandas as pd\n",
    "import matplotlib.pyplot as plt\n",
    "import numpy as np\n",
    "\n",
    "from sklearn.pipeline import make_pipeline\n",
    "from sklearn.model_selection import cross_validate\n",
    "from sklearn.decomposition import TruncatedSVD\n",
    "from sklearn.feature_extraction.text import TfidfVectorizer, ENGLISH_STOP_WORDS\n",
    "from sklearn.svm import SVC\n",
    "from sklearn.ensemble import RandomForestClassifier"
   ]
  },
  {
   "cell_type": "markdown",
   "metadata": {},
   "source": [
    "### Read data"
   ]
  },
  {
   "cell_type": "code",
   "execution_count": 3,
   "metadata": {
    "collapsed": false,
    "jupyter": {
     "outputs_hidden": false
    },
    "pycharm": {
     "name": "#%%\n"
    }
   },
   "outputs": [],
   "source": [
    "train_df = pd.read_csv('../assist_material/datasets/extracted/datasets2020/datasets/q1/train_small.csv', sep=',')\n",
    "train_df.columns = ['id', 'title', 'content', 'label']"
   ]
  },
  {
   "cell_type": "markdown",
   "metadata": {},
   "source": [
    "### Benchmark Models\n",
    "\n",
    "For the benchmarking we use the following combinations. SVM with TF-IDF, Random Forest with TF-IDF & SVM with SVD,\n",
    "Random Forest with SVD.\n"
   ]
  },
  {
   "cell_type": "code",
   "execution_count": 4,
   "metadata": {
    "collapsed": false,
    "jupyter": {
     "outputs_hidden": false
    },
    "pycharm": {
     "name": "#%%\n"
    }
   },
   "outputs": [],
   "source": [
    "vectorizer = TfidfVectorizer()\n",
    "svd = TruncatedSVD(n_components=300)\n",
    "\n",
    "svm = SVC(kernel='linear')\n",
    "random_forest = RandomForestClassifier(n_estimators=1000, max_features='sqrt')\n",
    "\n",
    "svm_tfidf = make_pipeline(vectorizer,svm)\n",
    "random_forest_tfidf = make_pipeline(vectorizer, random_forest)\n",
    "\n",
    "svm_tfidf_svd = make_pipeline(vectorizer, svd, svm)\n",
    "random_forest_tfidf_svd = make_pipeline(vectorizer, svd, random_forest)\n"
   ]
  },
  {
   "cell_type": "markdown",
   "metadata": {
    "pycharm": {
     "name": "#%% md\n"
    }
   },
   "source": [
    "### Initialize data with labels in order to seed the classifiers"
   ]
  },
  {
   "cell_type": "code",
   "execution_count": 5,
   "metadata": {
    "collapsed": false,
    "jupyter": {
     "outputs_hidden": false
    },
    "pycharm": {
     "name": "#%%\n"
    }
   },
   "outputs": [],
   "source": [
    "X = train_df['title'] + ' ' + train_df['content']\n",
    "y = train_df['label']"
   ]
  },
  {
   "cell_type": "markdown",
   "source": [
    "### SVM with TF-IDF"
   ],
   "metadata": {
    "collapsed": false
   }
  },
  {
   "cell_type": "code",
   "execution_count": 6,
   "metadata": {
    "collapsed": false,
    "jupyter": {
     "outputs_hidden": false
    },
    "pycharm": {
     "name": "#%%\n"
    }
   },
   "outputs": [],
   "source": [
    "scores_svm_tfidf = cross_validate(svm_tfidf, X, y,\n",
    "                        scoring=['accuracy', 'precision_macro', 'recall_macro', 'f1_macro'],\n",
    "                        cv=5,\n",
    "                        n_jobs=-1,\n",
    "                        return_train_score=False)\n",
    "print('SVM + tfidf', scores_svm_tfidf)"
   ]
  },
  {
   "cell_type": "markdown",
   "source": [
    "### Random Forest with TF-IDF"
   ],
   "metadata": {
    "collapsed": false
   }
  },
  {
   "cell_type": "code",
   "execution_count": 7,
   "metadata": {
    "collapsed": false,
    "jupyter": {
     "outputs_hidden": false
    },
    "pycharm": {
     "name": "#%%\n"
    }
   },
   "outputs": [],
   "source": [
    "scores_random_forest_tfidf = cross_validate(random_forest_tfidf, X, y,\n",
    "                        scoring=['accuracy', 'precision_macro', 'recall_macro', 'f1_macro'],\n",
    "                        cv=5,\n",
    "                        n_jobs=-1,\n",
    "                        return_train_score=False)\n",
    "print('Random Forest + tfidf', scores_random_forest_tfidf)"
   ]
  },
  {
   "cell_type": "markdown",
   "source": [
    "### SVM with SVD"
   ],
   "metadata": {
    "collapsed": false
   }
  },
  {
   "cell_type": "code",
   "execution_count": 8,
   "metadata": {
    "collapsed": false,
    "jupyter": {
     "outputs_hidden": false
    },
    "pycharm": {
     "name": "#%%\n"
    }
   },
   "outputs": [],
   "source": [
    "scores_svm_tfidf_svd = cross_validate(svm_tfidf_svd, X, y,\n",
    "                        scoring=['accuracy', 'precision_macro', 'recall_macro', 'f1_macro'],\n",
    "                        cv=5,\n",
    "                        n_jobs=-1,\n",
    "                        return_train_score=False)\n",
    "print('SVM + tfidf + SVD', scores_svm_tfidf_svd)"
   ]
  },
  {
   "cell_type": "markdown",
   "source": [
    "### Random Forest with SVD"
   ],
   "metadata": {
    "collapsed": false
   }
  },
  {
   "cell_type": "code",
   "execution_count": 9,
   "metadata": {
    "collapsed": false,
    "jupyter": {
     "outputs_hidden": false
    },
    "pycharm": {
     "name": "#%%\n"
    }
   },
   "outputs": [
    {
     "name": "stdout",
     "output_type": "stream",
     "text": [
      "Random Forest + tfidf + SVD {'fit_time': array([1480.78302121, 1501.0908289 , 1498.23283124, 1493.84269404,\n",
      "       1516.39122272]), 'score_time': array([8.45600486, 8.6007936 , 8.73060846, 8.27172494, 7.3048346 ]), 'test_accuracy': array([0.94411426, 0.93843697, 0.93825956, 0.94118169, 0.93656849]), 'test_precision_macro': array([0.94663006, 0.93985527, 0.94171644, 0.94517633, 0.93867251]), 'test_recall_macro': array([0.93017714, 0.9219483 , 0.92018643, 0.92458141, 0.92278172]), 'test_f1_macro': array([0.93791101, 0.9302755 , 0.93008724, 0.93408672, 0.93026265])}\n"
     ]
    }
   ],
   "source": [
    "scores_random_forest_tfidf_svd = cross_validate(random_forest_tfidf_svd, X, y,\n",
    "                        scoring=['accuracy', 'precision_macro', 'recall_macro', 'f1_macro'],\n",
    "                        cv=5,\n",
    "                        n_jobs=-1,\n",
    "                        return_train_score=False)\n",
    "print('Random Forest + tfidf + SVD', scores_random_forest_tfidf_svd)"
   ]
  },
  {
   "cell_type": "markdown",
   "source": [
    "## Beat the Benchmark classifier\n",
    "\n",
    "In order to achieve the best performance in terms of accuracy and execution time the best choice is Random Forest with\n",
    "SVD. Tuning this model further we can easily achieve 96% accuracy. The hyper-parameters below are occurred through the\n",
    "tuning phase which was a time-consuming process, approximately 20 different combinations were executed. Also, some\n",
    "information about the preprocessing. The input text initially gets cleaned up from stopwords, turned to lower case\n",
    "and finally vectorized to TF-IDF."
   ],
   "metadata": {
    "collapsed": false
   }
  },
  {
   "cell_type": "code",
   "execution_count": null,
   "outputs": [],
   "source": [
    "stop_words = ENGLISH_STOP_WORDS.union(['will', 's', 't', 'one', 'new', 'said', 'say', 'says'])\n",
    "\n",
    "vectorizer_tuned = TfidfVectorizer(lowercase=True, stop_words=stop_words, ngram_range=(1,1), max_features=45000)\n",
    "svd_tuned = TruncatedSVD(n_components=1000)\n",
    "\n",
    "random_forest_tuned = RandomForestClassifier(n_estimators=1000, max_features='sqrt', n_jobs=-1)\n",
    "\n",
    "random_forest_tfidf_svd_tuned = make_pipeline(vectorizer_tuned, svd_tuned, random_forest_tuned)\n",
    "\n",
    "scores_random_forest_tfidf_svd_tuned = cross_validate(random_forest_tfidf_svd_tuned, X, y,\n",
    "                        scoring=['accuracy', 'precision_macro', 'recall_macro', 'f1_macro'],\n",
    "                        cv=5,\n",
    "                        return_train_score=False)\n",
    "print('Random Forest + tfidf + SVD', scores_random_forest_tfidf_svd_tuned)"
   ],
   "metadata": {
    "collapsed": false,
    "pycharm": {
     "name": "#%%\n"
    }
   }
  },
  {
   "cell_type": "markdown",
   "metadata": {
    "pycharm": {
     "name": "#%% md\n"
    }
   },
   "source": [
    "### Generating stats table"
   ]
  },
  {
   "cell_type": "code",
   "execution_count": 10,
   "metadata": {
    "collapsed": false,
    "jupyter": {
     "outputs_hidden": false
    },
    "pycharm": {
     "name": "#%%\n"
    }
   },
   "outputs": [],
   "source": [
    "data_table = [[np.mean(scores_svm_tfidf['test_accuracy'], dtype='float64'),\n",
    "               np.mean(scores_random_forest_tfidf['test_accuracy'], dtype='float64'),\n",
    "               np.mean(scores_svm_tfidf_svd['test_accuracy'], dtype='float64'),\n",
    "               np.mean(scores_random_forest_tfidf_svd['test_accuracy'], dtype='float64'),\n",
    "               np.mean(scores_random_forest_tfidf_svd_tuned['test_accuracy'], dtype='float64')],\n",
    "              [np.mean(scores_svm_tfidf['test_precision_macro'], dtype='float64'),\n",
    "               np.mean(scores_random_forest_tfidf['test_precision_macro'], dtype='float64'),\n",
    "               np.mean(scores_svm_tfidf_svd['test_precision_macro'], dtype='float64'),\n",
    "               np.mean(scores_random_forest_tfidf_svd['test_precision_macro'], dtype='float64'),\n",
    "               np.mean(scores_random_forest_tfidf_svd_tuned['test_precision_macro'], dtype='float64')],\n",
    "              [np.mean(scores_svm_tfidf['test_recall_macro'], dtype='float64'),\n",
    "               np.mean(scores_random_forest_tfidf['test_recall_macro'], dtype='float64'),\n",
    "               np.mean(scores_svm_tfidf_svd['test_recall_macro'], dtype='float64'),\n",
    "               np.mean(scores_random_forest_tfidf_svd['test_recall_macro'], dtype='float64'),\n",
    "               np.mean(scores_random_forest_tfidf_svd_tuned['test_recall_macro'], dtype='float64')],\n",
    "              [np.mean(scores_svm_tfidf['test_f1_macro'], dtype='float64'),\n",
    "               np.mean(scores_random_forest_tfidf['test_f1_macro'], dtype='float64'),\n",
    "               np.mean(scores_svm_tfidf_svd['test_f1_macro'], dtype='float64'),\n",
    "               np.mean(scores_random_forest_tfidf_svd['test_f1_macro'], dtype='float64'),\n",
    "               np.mean(scores_random_forest_tfidf_svd_tuned['test_f1_macro'], dtype='float64')]\n",
    "              ]\n",
    "\n",
    "cell_text = []\n",
    "for row in data_table:\n",
    "    cell_text.append([f'{x:1.5f}' for x in row])\n",
    "\n",
    "plt.figure(dpi=150)\n",
    "ax = plt.gca()\n",
    "ax.get_xaxis().set_visible(False)\n",
    "ax.get_yaxis().set_visible(False)\n",
    "plt.box(on=None)\n",
    "plt.subplots_adjust(left=0.2, bottom=0.2)\n",
    "\n",
    "the_table = plt.table(cellText=cell_text,\n",
    "                      rowLabels=['Accuracy', 'Precision', 'Recall', 'F1-Score'],\n",
    "                      colLabels=['SVM (BoW)', 'Random Forest (BoW)', 'SVM (SVD)', 'Random Forest (SVD)', 'My Method'],\n",
    "                      colColours=['lightsteelblue'] * 5,\n",
    "                      rowColours=['lightsteelblue'] * 4,\n",
    "                      loc='center')\n",
    "the_table.scale(1, 1.5)\n",
    "fig = plt.gcf()\n",
    "plt.show()"
   ]
  }
 ],
 "metadata": {
  "kernelspec": {
   "display_name": "Python 3",
   "language": "python",
   "name": "python3"
  },
  "language_info": {
   "codemirror_mode": {
    "name": "ipython",
    "version": 3
   },
   "file_extension": ".py",
   "mimetype": "text/x-python",
   "name": "python",
   "nbconvert_exporter": "python",
   "pygments_lexer": "ipython3",
   "version": "3.8.5"
  }
 },
 "nbformat": 4,
 "nbformat_minor": 4
}