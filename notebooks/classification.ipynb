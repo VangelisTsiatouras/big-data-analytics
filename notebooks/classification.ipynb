{
 "cells": [
  {
   "cell_type": "markdown",
   "metadata": {
    "pycharm": {
     "name": "#%% md\n"
    }
   },
   "source": [
    "### Install Required Packages"
   ]
  },
  {
   "cell_type": "code",
   "execution_count": 1,
   "metadata": {
    "collapsed": false,
    "jupyter": {
     "outputs_hidden": false
    },
    "pycharm": {
     "name": "#%%\n"
    }
   },
   "outputs": [
    {
     "name": "stdout",
     "output_type": "stream",
     "text": [
      "Requirement already satisfied: numpy in /home/vangelis/.local/share/virtualenvs/big-data-analytics/lib/python3.8/site-packages (1.19.5)\n",
      "Requirement already satisfied: pandas in /home/vangelis/.local/share/virtualenvs/big-data-analytics/lib/python3.8/site-packages (1.1.5)\n",
      "Requirement already satisfied: scikit-learn in /home/vangelis/.local/share/virtualenvs/big-data-analytics/lib/python3.8/site-packages (0.24.1)\n",
      "Requirement already satisfied: matplotlib in /home/vangelis/.local/share/virtualenvs/big-data-analytics/lib/python3.8/site-packages (3.3.3)\n",
      "Requirement already satisfied: python-dateutil>=2.1 in /home/vangelis/.local/share/virtualenvs/big-data-analytics/lib/python3.8/site-packages (from matplotlib) (2.8.1)\n",
      "Requirement already satisfied: cycler>=0.10 in /home/vangelis/.local/share/virtualenvs/big-data-analytics/lib/python3.8/site-packages (from matplotlib) (0.10.0)\n",
      "Requirement already satisfied: pyparsing!=2.0.4,!=2.1.2,!=2.1.6,>=2.0.3 in /home/vangelis/.local/share/virtualenvs/big-data-analytics/lib/python3.8/site-packages (from matplotlib) (2.4.7)\n",
      "Requirement already satisfied: pillow>=6.2.0 in /home/vangelis/.local/share/virtualenvs/big-data-analytics/lib/python3.8/site-packages (from matplotlib) (8.1.0)\n",
      "Requirement already satisfied: kiwisolver>=1.0.1 in /home/vangelis/.local/share/virtualenvs/big-data-analytics/lib/python3.8/site-packages (from matplotlib) (1.3.1)\n",
      "Requirement already satisfied: six in /home/vangelis/.local/share/virtualenvs/big-data-analytics/lib/python3.8/site-packages (from cycler>=0.10->matplotlib) (1.15.0)\n",
      "Requirement already satisfied: pytz>=2017.2 in /home/vangelis/.local/share/virtualenvs/big-data-analytics/lib/python3.8/site-packages (from pandas) (2020.5)\n",
      "Requirement already satisfied: threadpoolctl>=2.0.0 in /home/vangelis/.local/share/virtualenvs/big-data-analytics/lib/python3.8/site-packages (from scikit-learn) (2.1.0)\n",
      "Requirement already satisfied: joblib>=0.11 in /home/vangelis/.local/share/virtualenvs/big-data-analytics/lib/python3.8/site-packages (from scikit-learn) (1.0.0)\n",
      "Requirement already satisfied: scipy>=0.19.1 in /home/vangelis/.local/share/virtualenvs/big-data-analytics/lib/python3.8/site-packages (from scikit-learn) (1.6.0)\n"
     ]
    }
   ],
   "source": [
    "! pip install numpy pandas scikit-learn matplotlib"
   ]
  },
  {
   "cell_type": "markdown",
   "metadata": {},
   "source": [
    "### Imports"
   ]
  },
  {
   "cell_type": "code",
   "execution_count": 2,
   "metadata": {
    "collapsed": false,
    "jupyter": {
     "outputs_hidden": false
    },
    "pycharm": {
     "name": "#%%\n"
    }
   },
   "outputs": [],
   "source": [
    "import swifter\n",
    "import pandas as pd\n",
    "import matplotlib.pyplot as plt\n",
    "import numpy as np\n",
    "\n",
    "from sklearn.pipeline import make_pipeline\n",
    "from sklearn.model_selection import cross_validate\n",
    "from sklearn.decomposition import TruncatedSVD\n",
    "from sklearn.feature_extraction.text import TfidfVectorizer, ENGLISH_STOP_WORDS\n",
    "from sklearn.svm import SVC\n",
    "from sklearn.ensemble import RandomForestClassifier"
   ]
  },
  {
   "cell_type": "markdown",
   "metadata": {},
   "source": [
    "### Read data"
   ]
  },
  {
   "cell_type": "code",
   "execution_count": 3,
   "metadata": {
    "collapsed": false,
    "jupyter": {
     "outputs_hidden": false
    },
    "pycharm": {
     "name": "#%%\n"
    }
   },
   "outputs": [],
   "source": [
    "train_df = pd.read_csv('../assist_material/datasets/extracted/q1/train.csv', sep=',')\n",
    "train_df.columns = ['id', 'title', 'content', 'label']"
   ]
  },
  {
   "cell_type": "markdown",
   "metadata": {},
   "source": [
    "### Benchmark Models\n",
    "\n",
    "For the benchmarking we use the following combinations. SVM with TF-IDF, Random Forest with TF-IDF & SVM with SVD,\n",
    "Random Forest with SVD. As Bag-of-words I used TF-IDF variation in order to vectorize the datasets.\n"
   ]
  },
  {
   "cell_type": "code",
   "execution_count": 4,
   "metadata": {
    "collapsed": false,
    "jupyter": {
     "outputs_hidden": false
    },
    "pycharm": {
     "name": "#%%\n"
    }
   },
   "outputs": [],
   "source": [
    "vectorizer = TfidfVectorizer(max_features=50000)\n",
    "svd = TruncatedSVD(n_components=300)\n",
    "\n",
    "svm = SVC(kernel='linear')\n",
    "random_forest = RandomForestClassifier(n_estimators=1000, max_features='sqrt', n_jobs=-1)\n",
    "svm_tfidf = make_pipeline(vectorizer,svm)\n",
    "random_forest_tfidf = make_pipeline(vectorizer, random_forest)\n",
    "\n",
    "svm_tfidf_svd = make_pipeline(vectorizer, svd, svm)\n",
    "random_forest_tfidf_svd = make_pipeline(vectorizer, svd, random_forest)\n"
   ]
  },
  {
   "cell_type": "markdown",
   "metadata": {
    "pycharm": {
     "name": "#%% md\n"
    }
   },
   "source": [
    "### Initialize data with labels in order to seed the classifiers"
   ]
  },
  {
   "cell_type": "code",
   "execution_count": 5,
   "metadata": {
    "collapsed": false,
    "jupyter": {
     "outputs_hidden": false
    },
    "pycharm": {
     "name": "#%%\n"
    }
   },
   "outputs": [],
   "source": [
    "X = train_df['title'] + ' ' + train_df['content']\n",
    "y = train_df['label']"
   ]
  },
  {
   "cell_type": "markdown",
   "metadata": {},
   "source": [
    "### SVM with TF-IDF"
   ]
  },
  {
   "cell_type": "code",
   "execution_count": 6,
   "metadata": {
    "collapsed": false,
    "jupyter": {
     "outputs_hidden": false
    },
    "pycharm": {
     "name": "#%%\n"
    }
   },
   "outputs": [
    {
     "name": "stdout",
     "output_type": "stream",
     "text": [
      "SVM + tfidf {'fit_time': array([5972.67514062, 5997.87760592, 6439.15002251, 5987.78508735,\n",
      "       5962.99111986]), 'score_time': array([804.88322163, 797.93721437, 695.65758944, 805.09825611,\n",
      "       791.30725813]), 'test_accuracy': array([0.97486471, 0.97338879, 0.97151035, 0.97240485, 0.97374659]), 'test_precision_macro': array([0.97357825, 0.97247721, 0.96960123, 0.97128056, 0.97284079]), 'test_recall_macro': array([0.97166132, 0.96938016, 0.96834565, 0.96866393, 0.96976865]), 'test_f1_macro': array([0.97260122, 0.97090321, 0.96896362, 0.96994996, 0.97128082])}\n"
     ]
    }
   ],
   "source": [
    "scores_svm_tfidf = cross_validate(svm_tfidf, X, y,\n",
    "                        scoring=['accuracy', 'precision_macro', 'recall_macro', 'f1_macro'],\n",
    "                        cv=5,\n",
    "                        n_jobs=-1,\n",
    "                        return_train_score=False)\n",
    "print('SVM + tfidf', scores_svm_tfidf)"
   ]
  },
  {
   "cell_type": "markdown",
   "metadata": {},
   "source": [
    "### Random Forest with TF-IDF"
   ]
  },
  {
   "cell_type": "code",
   "execution_count": 7,
   "metadata": {
    "collapsed": false,
    "jupyter": {
     "outputs_hidden": false
    },
    "pycharm": {
     "name": "#%%\n"
    }
   },
   "outputs": [
    {
     "name": "stdout",
     "output_type": "stream",
     "text": [
      "Random Forest + tfidf {'fit_time': array([1430.75071049, 1083.00776839, 1036.26743364, 1049.25187874,\n",
      "       1048.41535974]), 'score_time': array([20.75124764, 14.85812163, 14.7342093 , 14.78973341, 14.77901316]), 'test_accuracy': array([0.93255512, 0.92866407, 0.92669618, 0.93031889, 0.92991636]), 'test_precision_macro': array([0.93729759, 0.93284164, 0.93078415, 0.93455407, 0.93490763]), 'test_recall_macro': array([0.91654861, 0.91119344, 0.91169173, 0.91299984, 0.91133404]), 'test_f1_macro': array([0.92611772, 0.92114361, 0.92056843, 0.92289031, 0.9220898 ])}\n"
     ]
    }
   ],
   "source": [
    "scores_random_forest_tfidf = cross_validate(random_forest_tfidf, X, y,\n",
    "                        scoring=['accuracy', 'precision_macro', 'recall_macro', 'f1_macro'],\n",
    "                        cv=5,\n",
    "                        return_train_score=False)\n",
    "print('Random Forest + tfidf', scores_random_forest_tfidf)"
   ]
  },
  {
   "cell_type": "markdown",
   "metadata": {},
   "source": [
    "### SVM with SVD"
   ]
  },
  {
   "cell_type": "code",
   "execution_count": 8,
   "metadata": {
    "collapsed": false,
    "jupyter": {
     "outputs_hidden": false
    },
    "pycharm": {
     "name": "#%%\n"
    }
   },
   "outputs": [
    {
     "name": "stdout",
     "output_type": "stream",
     "text": [
      "SVM + tfidf + SVD {'fit_time': array([1783.97190523, 1778.96400142, 1770.06127644, 1767.60470533,\n",
      "       1798.61956525]), 'score_time': array([268.96019411, 270.04122138, 264.33843398, 275.76219487,\n",
      "       256.49768066]), 'test_accuracy': array([0.94279708, 0.94056085, 0.93908493, 0.94109754, 0.94194731]), 'test_precision_macro': array([0.9392018 , 0.93872782, 0.93494015, 0.93774695, 0.93930805]), 'test_recall_macro': array([0.9330062 , 0.92845867, 0.93010582, 0.93036289, 0.92911352]), 'test_f1_macro': array([0.93602678, 0.93337789, 0.93247604, 0.93394301, 0.93398588])}\n"
     ]
    }
   ],
   "source": [
    "scores_svm_tfidf_svd = cross_validate(svm_tfidf_svd, X, y,\n",
    "                        scoring=['accuracy', 'precision_macro', 'recall_macro', 'f1_macro'],\n",
    "                        cv=5,\n",
    "                        n_jobs=-1,\n",
    "                        return_train_score=False)\n",
    "print('SVM + tfidf + SVD', scores_svm_tfidf_svd)"
   ]
  },
  {
   "cell_type": "markdown",
   "metadata": {},
   "source": [
    "### Random Forest with SVD"
   ]
  },
  {
   "cell_type": "code",
   "execution_count": 9,
   "metadata": {
    "collapsed": false,
    "jupyter": {
     "outputs_hidden": false
    },
    "pycharm": {
     "name": "#%%\n"
    }
   },
   "outputs": [
    {
     "name": "stdout",
     "output_type": "stream",
     "text": [
      "Random Forest + tfidf + SVD {'fit_time': array([609.79231071, 596.85289788, 602.92090774, 601.92383885,\n",
      "       601.19400907]), 'score_time': array([10.18020177,  9.97318864,  9.91738343,  9.98331761, 10.01315546]), 'test_accuracy': array([0.9480746 , 0.94816405, 0.94521222, 0.94722483, 0.94682231]), 'test_precision_macro': array([0.94887343, 0.95109186, 0.94612725, 0.94841592, 0.94994613]), 'test_recall_macro': array([0.93505427, 0.93363998, 0.93301456, 0.93405448, 0.93054157]), 'test_f1_macro': array([0.94160546, 0.94180445, 0.93925393, 0.94082714, 0.93952445])}\n"
     ]
    }
   ],
   "source": [
    "scores_random_forest_tfidf_svd = cross_validate(random_forest_tfidf_svd, X, y,\n",
    "                        scoring=['accuracy', 'precision_macro', 'recall_macro', 'f1_macro'],\n",
    "                        cv=5,\n",
    "                        return_train_score=False)\n",
    "print('Random Forest + tfidf + SVD', scores_random_forest_tfidf_svd)"
   ]
  },
  {
   "cell_type": "markdown",
   "metadata": {},
   "source": [
    "## Beat the Benchmark classifier\n",
    "\n",
    "In order to achieve the best performance in terms of accuracy and execution time the best choice is Random Forest with\n",
    "SVD. Tuning this model further we can achieve almost 96% accuracy. The hyper-parameters below are occurred through the\n",
    "tuning phase which was a time-consuming process, approximately 20 different combinations were executed. Also, some\n",
    "information about the preprocessing. The input text initially gets cleaned up from stopwords, turned to lower case\n",
    "and finally vectorized to TF-IDF."
   ]
  },
  {
   "cell_type": "code",
   "execution_count": 10,
   "metadata": {
    "collapsed": false,
    "jupyter": {
     "outputs_hidden": false
    },
    "pycharm": {
     "name": "#%%\n"
    }
   },
   "outputs": [
    {
     "name": "stdout",
     "output_type": "stream",
     "text": [
      "Random Forest + tfidf + SVD {'fit_time': array([1293.97891617, 1298.56422853, 1303.10185337, 1300.91827393,\n",
      "       1309.40971589]), 'score_time': array([12.25387335, 12.21674871, 12.11079383, 12.35880327, 12.12039995]), 'test_accuracy': array([0.95997138, 0.96023972, 0.95764569, 0.95907688, 0.9600161 ]), 'test_precision_macro': array([0.95932313, 0.96158716, 0.95693254, 0.95881541, 0.96090268]), 'test_recall_macro': array([0.95048281, 0.94972504, 0.9497009 , 0.95018103, 0.95001867]), 'test_f1_macro': array([0.95473048, 0.9553542 , 0.95319476, 0.95431173, 0.9552181 ])}\n"
     ]
    }
   ],
   "source": [
    "# Preprocess\n",
    "\n",
    "stop_words = ENGLISH_STOP_WORDS.union(['will', 's', 't', 'one', 'new', 'said', 'say', 'says', 'year'])\n",
    "\n",
    "vectorizer_tuned = TfidfVectorizer(lowercase=True, stop_words=stop_words, ngram_range=(1,1), max_features=50000)\n",
    "svd_tuned = TruncatedSVD(n_components=1000)\n",
    "\n",
    "random_forest_tuned = RandomForestClassifier(n_estimators=1000, max_features='sqrt', n_jobs=-1)\n",
    "\n",
    "random_forest_tfidf_svd_tuned = make_pipeline(vectorizer_tuned, svd_tuned, random_forest_tuned)\n",
    "\n",
    "scores_random_forest_tfidf_svd_tuned = cross_validate(random_forest_tfidf_svd_tuned, X, y,\n",
    "                        scoring=['accuracy', 'precision_macro', 'recall_macro', 'f1_macro'],\n",
    "                        cv=5,\n",
    "                        return_train_score=False)\n",
    "print('Random Forest + tfidf + SVD', scores_random_forest_tfidf_svd_tuned)"
   ]
  },
  {
   "cell_type": "markdown",
   "metadata": {
    "pycharm": {
     "name": "#%% md\n"
    }
   },
   "source": [
    "### Generating stats table"
   ]
  },
  {
   "cell_type": "code",
   "execution_count": 11,
   "metadata": {
    "collapsed": false,
    "jupyter": {
     "outputs_hidden": false
    },
    "pycharm": {
     "name": "#%%\n"
    }
   },
   "outputs": [
    {
     "data": {
      "image/png": "[encoded data removed]",
      "text/plain": [
       "<Figure size 900x600 with 1 Axes>"
      ]
     },
     "metadata": {
      "needs_background": "light"
     },
     "output_type": "display_data"
    }
   ],
   "source": [
    "data_table = [[np.mean(scores_svm_tfidf['test_accuracy'], dtype='float64'),\n",
    "               np.mean(scores_random_forest_tfidf['test_accuracy'], dtype='float64'),\n",
    "               np.mean(scores_svm_tfidf_svd['test_accuracy'], dtype='float64'),\n",
    "               np.mean(scores_random_forest_tfidf_svd['test_accuracy'], dtype='float64'),\n",
    "               np.mean(scores_random_forest_tfidf_svd_tuned['test_accuracy'], dtype='float64')],\n",
    "              [np.mean(scores_svm_tfidf['test_precision_macro'], dtype='float64'),\n",
    "               np.mean(scores_random_forest_tfidf['test_precision_macro'], dtype='float64'),\n",
    "               np.mean(scores_svm_tfidf_svd['test_precision_macro'], dtype='float64'),\n",
    "               np.mean(scores_random_forest_tfidf_svd['test_precision_macro'], dtype='float64'),\n",
    "               np.mean(scores_random_forest_tfidf_svd_tuned['test_precision_macro'], dtype='float64')],\n",
    "              [np.mean(scores_svm_tfidf['test_recall_macro'], dtype='float64'),\n",
    "               np.mean(scores_random_forest_tfidf['test_recall_macro'], dtype='float64'),\n",
    "               np.mean(scores_svm_tfidf_svd['test_recall_macro'], dtype='float64'),\n",
    "               np.mean(scores_random_forest_tfidf_svd['test_recall_macro'], dtype='float64'),\n",
    "               np.mean(scores_random_forest_tfidf_svd_tuned['test_recall_macro'], dtype='float64')],\n",
    "              [np.mean(scores_svm_tfidf['test_f1_macro'], dtype='float64'),\n",
    "               np.mean(scores_random_forest_tfidf['test_f1_macro'], dtype='float64'),\n",
    "               np.mean(scores_svm_tfidf_svd['test_f1_macro'], dtype='float64'),\n",
    "               np.mean(scores_random_forest_tfidf_svd['test_f1_macro'], dtype='float64'),\n",
    "               np.mean(scores_random_forest_tfidf_svd_tuned['test_f1_macro'], dtype='float64')]\n",
    "              ]\n",
    "\n",
    "cell_text = []\n",
    "for row in data_table:\n",
    "    cell_text.append([f'{x:1.5f}' for x in row])\n",
    "\n",
    "plt.figure(dpi=150)\n",
    "ax = plt.gca()\n",
    "ax.get_xaxis().set_visible(False)\n",
    "ax.get_yaxis().set_visible(False)\n",
    "plt.box(on=None)\n",
    "plt.subplots_adjust(left=0.2, bottom=0.2)\n",
    "\n",
    "the_table = plt.table(cellText=cell_text,\n",
    "                      rowLabels=['Accuracy', 'Precision', 'Recall', 'F1-Score'],\n",
    "                      colLabels=['SVM (BoW)', 'Random Forest (BoW)', 'SVM (SVD)', 'Random Forest (SVD)', 'My Method'],\n",
    "                      colColours=['lightsteelblue'] * 5,\n",
    "                      rowColours=['lightsteelblue'] * 4,\n",
    "                      loc='center')\n",
    "the_table.scale(1, 1.5)\n",
    "fig = plt.gcf()\n",
    "plt.show()"
   ]
  }
 ],
 "metadata": {
  "kernelspec": {
   "display_name": "Python 3",
   "language": "python",
   "name": "python3"
  },
  "language_info": {
   "codemirror_mode": {
    "name": "ipython",
    "version": 3
   },
   "file_extension": ".py",
   "mimetype": "text/x-python",
   "name": "python",
   "nbconvert_exporter": "python",
   "pygments_lexer": "ipython3",
   "version": "3.8.5"
  }
 },
 "nbformat": 4,
 "nbformat_minor": 4
}
