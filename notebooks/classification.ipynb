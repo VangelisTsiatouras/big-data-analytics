{
 "cells": [
  {
   "cell_type": "markdown",
   "metadata": {
    "pycharm": {
     "name": "#%% md\n"
    }
   },
   "source": [
    "### Install Required Packages"
   ]
  },
  {
   "cell_type": "code",
   "execution_count": 1,
   "metadata": {
    "collapsed": false,
    "jupyter": {
     "outputs_hidden": false
    },
    "pycharm": {
     "name": "#%%\n"
    }
   },
   "outputs": [
    {
     "name": "stdout",
     "output_type": "stream",
     "text": [
      "Requirement already satisfied: numpy in /home/vangelis/.local/share/virtualenvs/big-data-analytics/lib/python3.8/site-packages (1.19.5)\n",
      "Requirement already satisfied: pandas in /home/vangelis/.local/share/virtualenvs/big-data-analytics/lib/python3.8/site-packages (1.1.5)\n",
      "Requirement already satisfied: scikit-learn in /home/vangelis/.local/share/virtualenvs/big-data-analytics/lib/python3.8/site-packages (0.24.1)\n",
      "Requirement already satisfied: matplotlib in /home/vangelis/.local/share/virtualenvs/big-data-analytics/lib/python3.8/site-packages (3.3.3)\n",
      "Requirement already satisfied: cycler>=0.10 in /home/vangelis/.local/share/virtualenvs/big-data-analytics/lib/python3.8/site-packages (from matplotlib) (0.10.0)\n",
      "Requirement already satisfied: pyparsing!=2.0.4,!=2.1.2,!=2.1.6,>=2.0.3 in /home/vangelis/.local/share/virtualenvs/big-data-analytics/lib/python3.8/site-packages (from matplotlib) (2.4.7)\n",
      "Requirement already satisfied: python-dateutil>=2.1 in /home/vangelis/.local/share/virtualenvs/big-data-analytics/lib/python3.8/site-packages (from matplotlib) (2.8.1)\n",
      "Requirement already satisfied: pillow>=6.2.0 in /home/vangelis/.local/share/virtualenvs/big-data-analytics/lib/python3.8/site-packages (from matplotlib) (8.1.0)\n",
      "Requirement already satisfied: kiwisolver>=1.0.1 in /home/vangelis/.local/share/virtualenvs/big-data-analytics/lib/python3.8/site-packages (from matplotlib) (1.3.1)\n",
      "Requirement already satisfied: six in /home/vangelis/.local/share/virtualenvs/big-data-analytics/lib/python3.8/site-packages (from cycler>=0.10->matplotlib) (1.15.0)\n",
      "Requirement already satisfied: pytz>=2017.2 in /home/vangelis/.local/share/virtualenvs/big-data-analytics/lib/python3.8/site-packages (from pandas) (2020.5)\n",
      "Requirement already satisfied: threadpoolctl>=2.0.0 in /home/vangelis/.local/share/virtualenvs/big-data-analytics/lib/python3.8/site-packages (from scikit-learn) (2.1.0)\n",
      "Requirement already satisfied: joblib>=0.11 in /home/vangelis/.local/share/virtualenvs/big-data-analytics/lib/python3.8/site-packages (from scikit-learn) (1.0.0)\n",
      "Requirement already satisfied: scipy>=0.19.1 in /home/vangelis/.local/share/virtualenvs/big-data-analytics/lib/python3.8/site-packages (from scikit-learn) (1.6.0)\n"
     ]
    }
   ],
   "source": [
    "! pip install numpy pandas scikit-learn matplotlib"
   ]
  },
  {
   "cell_type": "markdown",
   "metadata": {},
   "source": [
    "### Imports"
   ]
  },
  {
   "cell_type": "code",
   "execution_count": 2,
   "metadata": {
    "collapsed": false,
    "jupyter": {
     "outputs_hidden": false
    },
    "pycharm": {
     "name": "#%%\n"
    }
   },
   "outputs": [],
   "source": [
    "import swifter\n",
    "import pandas as pd\n",
    "import matplotlib.pyplot as plt\n",
    "import numpy as np\n",
    "\n",
    "from sklearn.pipeline import make_pipeline\n",
    "from sklearn.model_selection import cross_validate\n",
    "from sklearn.decomposition import TruncatedSVD\n",
    "from sklearn.feature_extraction.text import TfidfVectorizer, ENGLISH_STOP_WORDS\n",
    "from sklearn.svm import SVC\n",
    "from sklearn.ensemble import RandomForestClassifier"
   ]
  },
  {
   "cell_type": "markdown",
   "metadata": {},
   "source": [
    "### Read data"
   ]
  },
  {
   "cell_type": "code",
   "execution_count": 3,
   "metadata": {
    "collapsed": false,
    "jupyter": {
     "outputs_hidden": false
    },
    "pycharm": {
     "name": "#%%\n"
    }
   },
   "outputs": [],
   "source": [
    "train_df = pd.read_csv('../assist_material/datasets/extracted/q1/train.csv', sep=',')\n",
    "train_df.columns = ['id', 'title', 'content', 'label']"
   ]
  },
  {
   "cell_type": "markdown",
   "metadata": {},
   "source": [
    "### Benchmark Models\n",
    "\n",
    "For the benchmarking we use the following combinations. SVM with TF-IDF, Random Forest with TF-IDF & SVM with SVD,\n",
    "Random Forest with SVD. As Bag-of-words I used TF-IDF variation in order to vectorize the datasets.\n"
   ]
  },
  {
   "cell_type": "code",
   "execution_count": 4,
   "metadata": {
    "collapsed": false,
    "jupyter": {
     "outputs_hidden": false
    },
    "pycharm": {
     "name": "#%%\n"
    }
   },
   "outputs": [],
   "source": [
    "vectorizer = TfidfVectorizer(max_features=50000)\n",
    "svd = TruncatedSVD(n_components=300)\n",
    "\n",
    "svm = SVC(kernel='linear')\n",
    "random_forest = RandomForestClassifier(n_estimators=1000, max_features='sqrt', n_jobs=-1)\n",
    "svm_tfidf = make_pipeline(vectorizer,svm)\n",
    "random_forest_tfidf = make_pipeline(vectorizer, random_forest)\n",
    "\n",
    "svm_tfidf_svd = make_pipeline(vectorizer, svd, svm)\n",
    "random_forest_tfidf_svd = make_pipeline(vectorizer, svd, random_forest)\n"
   ]
  },
  {
   "cell_type": "markdown",
   "metadata": {
    "pycharm": {
     "name": "#%% md\n"
    }
   },
   "source": [
    "### Initialize data with labels in order to seed the classifiers"
   ]
  },
  {
   "cell_type": "code",
   "execution_count": 5,
   "metadata": {
    "collapsed": false,
    "jupyter": {
     "outputs_hidden": false
    },
    "pycharm": {
     "name": "#%%\n"
    }
   },
   "outputs": [],
   "source": [
    "X = train_df['title'] + ' ' + train_df['content']\n",
    "y = train_df['label']"
   ]
  },
  {
   "cell_type": "markdown",
   "metadata": {},
   "source": [
    "### SVM with TF-IDF"
   ]
  },
  {
   "cell_type": "code",
   "execution_count": 6,
   "metadata": {
    "collapsed": false,
    "jupyter": {
     "outputs_hidden": false
    },
    "pycharm": {
     "name": "#%%\n"
    }
   },
   "outputs": [
    {
     "name": "stdout",
     "output_type": "stream",
     "text": [
      "SVM + tfidf {'fit_time': array([4983.50711012, 4987.29381394, 5302.57247901, 5024.12881422,\n",
      "       4947.53324771]), 'score_time': array([646.85783744, 642.27338457, 579.83448076, 636.89296818,\n",
      "       643.03198361]), 'test_accuracy': array([0.97486471, 0.97338879, 0.97151035, 0.97240485, 0.97374659]), 'test_precision_macro': array([0.97357825, 0.97247721, 0.96960123, 0.97128056, 0.97284079]), 'test_recall_macro': array([0.97166132, 0.96938016, 0.96834565, 0.96866393, 0.96976865]), 'test_f1_macro': array([0.97260122, 0.97090321, 0.96896362, 0.96994996, 0.97128082])}\n"
     ]
    }
   ],
   "source": [
    "scores_svm_tfidf = cross_validate(svm_tfidf, X, y,\n",
    "                        scoring=['accuracy', 'precision_macro', 'recall_macro', 'f1_macro'],\n",
    "                        cv=5,\n",
    "                        n_jobs=-1,\n",
    "                        return_train_score=False)\n",
    "print('SVM + tfidf', scores_svm_tfidf)"
   ]
  },
  {
   "cell_type": "markdown",
   "metadata": {},
   "source": [
    "### Random Forest with TF-IDF"
   ]
  },
  {
   "cell_type": "code",
   "execution_count": 7,
   "metadata": {
    "collapsed": false,
    "jupyter": {
     "outputs_hidden": false
    },
    "pycharm": {
     "name": "#%%\n"
    }
   },
   "outputs": [
    {
     "name": "stdout",
     "output_type": "stream",
     "text": [
      "Random Forest + tfidf {'fit_time': array([1027.23066688, 1029.48917365, 1017.44397116, 1033.8934586 ,\n",
      "       1031.32706952]), 'score_time': array([14.66637087, 14.63790417, 14.61870193, 14.71222162, 14.64782643]), 'test_accuracy': array([0.93228677, 0.92866407, 0.9279932 , 0.93009526, 0.92973747]), 'test_precision_macro': array([0.93663272, 0.93266931, 0.93237597, 0.93382178, 0.93462345]), 'test_recall_macro': array([0.91663908, 0.91110772, 0.9135436 , 0.91301569, 0.91132015]), 'test_f1_macro': array([0.92589242, 0.92101799, 0.92231484, 0.92259073, 0.92196075])}\n"
     ]
    }
   ],
   "source": [
    "scores_random_forest_tfidf = cross_validate(random_forest_tfidf, X, y,\n",
    "                        scoring=['accuracy', 'precision_macro', 'recall_macro', 'f1_macro'],\n",
    "                        cv=5,\n",
    "                        return_train_score=False)\n",
    "print('Random Forest + tfidf', scores_random_forest_tfidf)"
   ]
  },
  {
   "cell_type": "markdown",
   "metadata": {},
   "source": [
    "### SVM with SVD"
   ]
  },
  {
   "cell_type": "code",
   "execution_count": 8,
   "metadata": {
    "collapsed": false,
    "jupyter": {
     "outputs_hidden": false
    },
    "pycharm": {
     "name": "#%%\n"
    }
   },
   "outputs": [
    {
     "name": "stdout",
     "output_type": "stream",
     "text": [
      "SVM + tfidf + SVD {'fit_time': array([1779.34122729, 1772.9892509 , 1772.69490957, 1769.12824607,\n",
      "       1753.28966212]), 'score_time': array([263.92417932, 263.56710649, 264.10922265, 260.85023665,\n",
      "       263.24279857]), 'test_accuracy': array([0.94163424, 0.94145534, 0.93787736, 0.93984525, 0.94217094]), 'test_precision_macro': array([0.93777937, 0.93986959, 0.93372428, 0.93632185, 0.93943891]), 'test_recall_macro': array([0.93113372, 0.92895242, 0.92922922, 0.92900089, 0.92975108]), 'test_f1_macro': array([0.93436706, 0.93417158, 0.93143686, 0.93255392, 0.93439795])}\n"
     ]
    }
   ],
   "source": [
    "scores_svm_tfidf_svd = cross_validate(svm_tfidf_svd, X, y,\n",
    "                        scoring=['accuracy', 'precision_macro', 'recall_macro', 'f1_macro'],\n",
    "                        cv=5,\n",
    "                        n_jobs=-1,\n",
    "                        return_train_score=False)\n",
    "print('SVM + tfidf + SVD', scores_svm_tfidf_svd)"
   ]
  },
  {
   "cell_type": "markdown",
   "metadata": {},
   "source": [
    "### Random Forest with SVD"
   ]
  },
  {
   "cell_type": "code",
   "execution_count": 9,
   "metadata": {
    "collapsed": false,
    "jupyter": {
     "outputs_hidden": false
    },
    "pycharm": {
     "name": "#%%\n"
    }
   },
   "outputs": [
    {
     "name": "stdout",
     "output_type": "stream",
     "text": [
      "Random Forest + tfidf + SVD {'fit_time': array([607.92321777, 595.0351193 , 601.09629822, 599.17084241,\n",
      "       598.66447616]), 'score_time': array([10.1774559 , 10.13576484,  9.86275768, 10.07177615, 10.02102184]), 'test_accuracy': array([0.94865602, 0.94816405, 0.94489915, 0.94722483, 0.94659869]), 'test_precision_macro': array([0.94951215, 0.95151435, 0.94623685, 0.9483248 , 0.94961739]), 'test_recall_macro': array([0.93592411, 0.93329237, 0.93222891, 0.93370688, 0.93047253]), 'test_f1_macro': array([0.94237093, 0.941788  , 0.93886951, 0.94058922, 0.93935297])}\n"
     ]
    }
   ],
   "source": [
    "scores_random_forest_tfidf_svd = cross_validate(random_forest_tfidf_svd, X, y,\n",
    "                        scoring=['accuracy', 'precision_macro', 'recall_macro', 'f1_macro'],\n",
    "                        cv=5,\n",
    "                        return_train_score=False)\n",
    "print('Random Forest + tfidf + SVD', scores_random_forest_tfidf_svd)"
   ]
  },
  {
   "cell_type": "markdown",
   "metadata": {},
   "source": [
    "## Beat the Benchmark classifier\n",
    "\n",
    "In order to achieve the best performance in terms of accuracy and execution time the best choice is Random Forest with\n",
    "SVD. Tuning this model further we can achieve 96% accuracy. The hyper-parameters below are occurred through the\n",
    "tuning phase which was a time-consuming process, approximately 20 different combinations were executed. Also, some\n",
    "information about the preprocessing. The input text initially gets cleaned up from stopwords, turned to lower case\n",
    "and finally vectorized to TF-IDF."
   ]
  },
  {
   "cell_type": "code",
   "execution_count": 10,
   "metadata": {
    "collapsed": false,
    "jupyter": {
     "outputs_hidden": false
    },
    "pycharm": {
     "name": "#%%\n"
    }
   },
   "outputs": [
    {
     "name": "stdout",
     "output_type": "stream",
     "text": [
      "Random Forest + tfidf + SVD {'fit_time': array([1297.75528431, 1296.63180065, 1298.92468619, 1286.59034038,\n",
      "       1294.77554822]), 'score_time': array([12.3066082 , 12.33018041, 12.21271563, 12.38780785, 12.33839941]), 'test_accuracy': array([0.96086587, 0.96126839, 0.95840601, 0.96104477, 0.96126839]), 'test_precision_macro': array([0.960228  , 0.96200845, 0.95731363, 0.96089662, 0.96199434]), 'test_recall_macro': array([0.95250394, 0.95131722, 0.95076747, 0.9520458 , 0.95122101]), 'test_f1_macro': array([0.95624868, 0.9564376 , 0.95394746, 0.95628501, 0.95637428])}\n"
     ]
    }
   ],
   "source": [
    "# Preprocess\n",
    "\n",
    "# Give a small gain to titles\n",
    "X = (train_df['title'] + ' ') * 3 + train_df['content']\n",
    "\n",
    "stop_words = ENGLISH_STOP_WORDS.union(['will', 's', 't', 'one', 'new', 'said', 'say', 'says', 'year'])\n",
    "\n",
    "vectorizer_tuned = TfidfVectorizer(lowercase=True, stop_words=stop_words, ngram_range=(1,1), max_features=50000)\n",
    "svd_tuned = TruncatedSVD(n_components=1000)\n",
    "\n",
    "random_forest_tuned = RandomForestClassifier(n_estimators=1000, max_features='sqrt', n_jobs=-1)\n",
    "\n",
    "random_forest_tfidf_svd_tuned = make_pipeline(vectorizer_tuned, svd_tuned, random_forest_tuned)\n",
    "\n",
    "scores_random_forest_tfidf_svd_tuned = cross_validate(random_forest_tfidf_svd_tuned, X, y,\n",
    "                        scoring=['accuracy', 'precision_macro', 'recall_macro', 'f1_macro'],\n",
    "                        cv=5,\n",
    "                        return_train_score=False)\n",
    "print('Random Forest + tfidf + SVD', scores_random_forest_tfidf_svd_tuned)"
   ]
  },
  {
   "cell_type": "markdown",
   "metadata": {
    "pycharm": {
     "name": "#%% md\n"
    }
   },
   "source": [
    "### Generating stats table"
   ]
  },
  {
   "cell_type": "code",
   "execution_count": 11,
   "metadata": {
    "collapsed": false,
    "jupyter": {
     "outputs_hidden": false
    },
    "pycharm": {
     "name": "#%%\n"
    }
   },
   "outputs": [
    {
     "data": {
      "image/png": "[encoded data removed]",
      "text/plain": [
       "<Figure size 900x600 with 1 Axes>"
      ]
     },
     "metadata": {
      "needs_background": "light"
     },
     "output_type": "display_data"
    }
   ],
   "source": [
    "data_table = [[np.mean(scores_svm_tfidf['test_accuracy'], dtype='float64'),\n",
    "               np.mean(scores_random_forest_tfidf['test_accuracy'], dtype='float64'),\n",
    "               np.mean(scores_svm_tfidf_svd['test_accuracy'], dtype='float64'),\n",
    "               np.mean(scores_random_forest_tfidf_svd['test_accuracy'], dtype='float64'),\n",
    "               np.mean(scores_random_forest_tfidf_svd_tuned['test_accuracy'], dtype='float64')],\n",
    "              [np.mean(scores_svm_tfidf['test_precision_macro'], dtype='float64'),\n",
    "               np.mean(scores_random_forest_tfidf['test_precision_macro'], dtype='float64'),\n",
    "               np.mean(scores_svm_tfidf_svd['test_precision_macro'], dtype='float64'),\n",
    "               np.mean(scores_random_forest_tfidf_svd['test_precision_macro'], dtype='float64'),\n",
    "               np.mean(scores_random_forest_tfidf_svd_tuned['test_precision_macro'], dtype='float64')],\n",
    "              [np.mean(scores_svm_tfidf['test_recall_macro'], dtype='float64'),\n",
    "               np.mean(scores_random_forest_tfidf['test_recall_macro'], dtype='float64'),\n",
    "               np.mean(scores_svm_tfidf_svd['test_recall_macro'], dtype='float64'),\n",
    "               np.mean(scores_random_forest_tfidf_svd['test_recall_macro'], dtype='float64'),\n",
    "               np.mean(scores_random_forest_tfidf_svd_tuned['test_recall_macro'], dtype='float64')],\n",
    "              [np.mean(scores_svm_tfidf['test_f1_macro'], dtype='float64'),\n",
    "               np.mean(scores_random_forest_tfidf['test_f1_macro'], dtype='float64'),\n",
    "               np.mean(scores_svm_tfidf_svd['test_f1_macro'], dtype='float64'),\n",
    "               np.mean(scores_random_forest_tfidf_svd['test_f1_macro'], dtype='float64'),\n",
    "               np.mean(scores_random_forest_tfidf_svd_tuned['test_f1_macro'], dtype='float64')]\n",
    "              ]\n",
    "\n",
    "cell_text = []\n",
    "for row in data_table:\n",
    "    cell_text.append([f'{x:1.5f}' for x in row])\n",
    "\n",
    "plt.figure(dpi=150)\n",
    "ax = plt.gca()\n",
    "ax.get_xaxis().set_visible(False)\n",
    "ax.get_yaxis().set_visible(False)\n",
    "plt.box(on=None)\n",
    "plt.subplots_adjust(left=0.2, bottom=0.2)\n",
    "\n",
    "the_table = plt.table(cellText=cell_text,\n",
    "                      rowLabels=['Accuracy', 'Precision', 'Recall', 'F1-Score'],\n",
    "                      colLabels=['SVM (BoW)', 'Random Forest (BoW)', 'SVM (SVD)', 'Random Forest (SVD)', 'My Method'],\n",
    "                      colColours=['lightsteelblue'] * 5,\n",
    "                      rowColours=['lightsteelblue'] * 4,\n",
    "                      loc='center')\n",
    "the_table.scale(1, 1.5)\n",
    "fig = plt.gcf()\n",
    "plt.show()"
   ]
  }
 ],
 "metadata": {
  "kernelspec": {
   "display_name": "Python 3",
   "language": "python",
   "name": "python3"
  },
  "language_info": {
   "codemirror_mode": {
    "name": "ipython",
    "version": 3
   },
   "file_extension": ".py",
   "mimetype": "text/x-python",
   "name": "python",
   "nbconvert_exporter": "python",
   "pygments_lexer": "ipython3",
   "version": "3.8.5"
  }
 },
 "nbformat": 4,
 "nbformat_minor": 4
}
