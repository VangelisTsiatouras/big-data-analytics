{
 "cells": [
  {
   "cell_type": "code",
   "execution_count": 1,
   "metadata": {
    "collapsed": false,
    "jupyter": {
     "outputs_hidden": false
    },
    "pycharm": {
     "name": "#%%\n"
    }
   },
   "outputs": [
    {
     "name": "stdout",
     "output_type": "stream",
     "text": [
      "Requirement already satisfied: numpy in /home/vangelis/.local/share/virtualenvs/big-data-analytics/lib/python3.8/site-packages (1.19.5)\n",
      "Requirement already satisfied: pandas in /home/vangelis/.local/share/virtualenvs/big-data-analytics/lib/python3.8/site-packages (1.1.5)\n",
      "Requirement already satisfied: scikit-learn in /home/vangelis/.local/share/virtualenvs/big-data-analytics/lib/python3.8/site-packages (0.24.1)\n",
      "Requirement already satisfied: matplotlib in /home/vangelis/.local/share/virtualenvs/big-data-analytics/lib/python3.8/site-packages (3.3.3)\n",
      "Requirement already satisfied: xgboost in /home/vangelis/.local/share/virtualenvs/big-data-analytics/lib/python3.8/site-packages (1.3.3)\n",
      "Requirement already satisfied: gensim in /home/vangelis/.local/share/virtualenvs/big-data-analytics/lib/python3.8/site-packages (3.8.3)\n",
      "Requirement already satisfied: fuzzywuzzy[speedup] in /home/vangelis/.local/share/virtualenvs/big-data-analytics/lib/python3.8/site-packages (0.18.0)\n",
      "Requirement already satisfied: nltk in /home/vangelis/.local/share/virtualenvs/big-data-analytics/lib/python3.8/site-packages (3.5)\n",
      "Requirement already satisfied: pyemd in /home/vangelis/.local/share/virtualenvs/big-data-analytics/lib/python3.8/site-packages (0.5.1)\n",
      "Requirement already satisfied: python-levenshtein>=0.12 in /home/vangelis/.local/share/virtualenvs/big-data-analytics/lib/python3.8/site-packages (from fuzzywuzzy[speedup]) (0.12.2)\n",
      "Requirement already satisfied: setuptools in /home/vangelis/.local/share/virtualenvs/big-data-analytics/lib/python3.8/site-packages (from python-levenshtein>=0.12->fuzzywuzzy[speedup]) (51.1.1)\n",
      "Requirement already satisfied: scipy>=0.18.1 in /home/vangelis/.local/share/virtualenvs/big-data-analytics/lib/python3.8/site-packages (from gensim) (1.6.0)\n",
      "Requirement already satisfied: six>=1.5.0 in /home/vangelis/.local/share/virtualenvs/big-data-analytics/lib/python3.8/site-packages (from gensim) (1.15.0)\n",
      "Requirement already satisfied: smart-open>=1.8.1 in /home/vangelis/.local/share/virtualenvs/big-data-analytics/lib/python3.8/site-packages (from gensim) (4.1.2)\n",
      "Requirement already satisfied: pillow>=6.2.0 in /home/vangelis/.local/share/virtualenvs/big-data-analytics/lib/python3.8/site-packages (from matplotlib) (8.1.0)\n",
      "Requirement already satisfied: python-dateutil>=2.1 in /home/vangelis/.local/share/virtualenvs/big-data-analytics/lib/python3.8/site-packages (from matplotlib) (2.8.1)\n",
      "Requirement already satisfied: cycler>=0.10 in /home/vangelis/.local/share/virtualenvs/big-data-analytics/lib/python3.8/site-packages (from matplotlib) (0.10.0)\n",
      "Requirement already satisfied: kiwisolver>=1.0.1 in /home/vangelis/.local/share/virtualenvs/big-data-analytics/lib/python3.8/site-packages (from matplotlib) (1.3.1)\n",
      "Requirement already satisfied: pyparsing!=2.0.4,!=2.1.2,!=2.1.6,>=2.0.3 in /home/vangelis/.local/share/virtualenvs/big-data-analytics/lib/python3.8/site-packages (from matplotlib) (2.4.7)\n",
      "Requirement already satisfied: click in /home/vangelis/.local/share/virtualenvs/big-data-analytics/lib/python3.8/site-packages (from nltk) (7.1.2)\n",
      "Requirement already satisfied: joblib in /home/vangelis/.local/share/virtualenvs/big-data-analytics/lib/python3.8/site-packages (from nltk) (1.0.0)\n",
      "Requirement already satisfied: regex in /home/vangelis/.local/share/virtualenvs/big-data-analytics/lib/python3.8/site-packages (from nltk) (2020.11.13)\n",
      "Requirement already satisfied: tqdm in /home/vangelis/.local/share/virtualenvs/big-data-analytics/lib/python3.8/site-packages (from nltk) (4.56.0)\n",
      "Requirement already satisfied: pytz>=2017.2 in /home/vangelis/.local/share/virtualenvs/big-data-analytics/lib/python3.8/site-packages (from pandas) (2020.5)\n",
      "Requirement already satisfied: threadpoolctl>=2.0.0 in /home/vangelis/.local/share/virtualenvs/big-data-analytics/lib/python3.8/site-packages (from scikit-learn) (2.1.0)\n"
     ]
    }
   ],
   "source": [
    "! pip install numpy pandas scikit-learn matplotlib xgboost gensim fuzzywuzzy\\[speedup\\] nltk pyemd"
   ]
  },
  {
   "cell_type": "markdown",
   "metadata": {},
   "source": [
    "## Imports"
   ]
  },
  {
   "cell_type": "code",
   "execution_count": 2,
   "metadata": {},
   "outputs": [],
   "source": [
    "import pandas as pd\n",
    "import matplotlib.pyplot as plt\n",
    "import numpy as np\n",
    "import xgboost as xgb\n",
    "\n",
    "from nltk import word_tokenize, download\n",
    "from nltk.corpus import stopwords\n",
    "from tqdm import tqdm_notebook\n",
    "from sklearn.model_selection import cross_validate, StratifiedKFold\n",
    "from sklearn.ensemble import RandomForestClassifier\n",
    "from sklearn.linear_model import LogisticRegression\n",
    "from scipy.stats import skew, kurtosis\n",
    "from scipy.spatial.distance import cosine, cityblock, jaccard, canberra, euclidean, minkowski, braycurtis\n",
    "from gensim.models import KeyedVectors\n",
    "from fuzzywuzzy import fuzz"
   ]
  },
  {
   "cell_type": "markdown",
   "metadata": {},
   "source": [
    "## Train data loading and Word2Vec corpus loading\n",
    "\n",
    "You can download the Word2Vec pre-trained corpus at this link https://drive.google.com/file/d/0B7XkCwpI5KDYNlNUTTlSS21pQmM/edit"
   ]
  },
  {
   "cell_type": "code",
   "execution_count": 3,
   "metadata": {
    "collapsed": false,
    "jupyter": {
     "outputs_hidden": false
    },
    "pycharm": {
     "name": "#%%\n"
    }
   },
   "outputs": [
    {
     "name": "stderr",
     "output_type": "stream",
     "text": [
      "[nltk_data] Downloading package punkt to /home/vangelis/nltk_data...\n",
      "[nltk_data]   Package punkt is already up-to-date!\n",
      "[nltk_data] Downloading package stopwords to\n",
      "[nltk_data]     /home/vangelis/nltk_data...\n",
      "[nltk_data]   Package stopwords is already up-to-date!\n"
     ]
    }
   ],
   "source": [
    "download('punkt')\n",
    "download('stopwords')\n",
    "\n",
    "train_df = pd.read_csv('../assist_material/datasets/extracted/q2b/train.csv', sep=',')\n",
    "train_df.columns = ['id', 'q1', 'q2', 'is_dup']\n",
    "\n",
    "norm_model = KeyedVectors.load_word2vec_format('./word2Vec/GoogleNews-vectors-negative300.bin.gz', binary=True)\n",
    "norm_model.init_sims(replace=True)"
   ]
  },
  {
   "cell_type": "markdown",
   "metadata": {},
   "source": [
    "## Checking distribution of the train dataset\n",
    "\n",
    "The below bar plot shows us how imbalanced is the train dataset. Class 1 (duplicate) has ~70k less\n",
    "documents than class 0 (no-duplicate)"
   ]
  },
  {
   "cell_type": "code",
   "execution_count": 4,
   "metadata": {},
   "outputs": [
    {
     "data": {
      "text/plain": [
       "<AxesSubplot:xlabel='is_dup'>"
      ]
     },
     "execution_count": 4,
     "metadata": {},
     "output_type": "execute_result"
    },
    {
     "data": {
      "image/png": "[encoded data removed]",
      "text/plain": [
       "<Figure size 432x288 with 1 Axes>"
      ]
     },
     "metadata": {
      "needs_background": "light"
     },
     "output_type": "display_data"
    }
   ],
   "source": [
    "train_df.groupby(\"is_dup\")['id'].count().plot.bar()"
   ]
  },
  {
   "cell_type": "markdown",
   "metadata": {},
   "source": [
    "## Feature Engineering\n",
    "\n",
    "The methods below generate metrics and stats of each question pairs in order to create numerical \n",
    "data."
   ]
  },
  {
   "cell_type": "code",
   "execution_count": 5,
   "metadata": {},
   "outputs": [],
   "source": [
    "def norm_wmd(q1, q2):\n",
    "    \"\"\"\n",
    "    ~~ Word2Vec ~~\n",
    "    Word Mover’s Distance between two questions. WMD use word embeddings to calculate the distance so that it\n",
    "    can calculate even though there is no common word. The assumption is that similar words should have similar vectors.\n",
    "    :param q1: Question 1\n",
    "    :param q2: Question 2\n",
    "    :return: Word Mover’s Distance between two questions\n",
    "    \"\"\"\n",
    "    q1 = str(q1).lower().split()\n",
    "    q2 = str(q2).lower().split()\n",
    "    stop_words = stopwords.words('english')\n",
    "    q1 = [w for w in q1 if w not in stop_words]\n",
    "    q2 = [w for w in q2 if w not in stop_words]\n",
    "    return norm_model.wmdistance(q1, q2)\n",
    "\n",
    "\n",
    "def sent2vec(s):\n",
    "    \"\"\"\n",
    "    Convert sentence to vector using Word2Vec model\n",
    "    :param q1: Question 1\n",
    "    :param q2: Question 2\n",
    "    :return: Vectorized sentences\n",
    "    \"\"\"\n",
    "    words = str(s).lower()\n",
    "    words = word_tokenize(words)\n",
    "    stop_words = stopwords.words('english')\n",
    "    words = [w for w in words if not w in stop_words]\n",
    "    words = [w for w in words if w.isalpha()]\n",
    "    M = []\n",
    "    for w in words:\n",
    "        try:\n",
    "            M.append(norm_model[w])\n",
    "        except:\n",
    "            continue\n",
    "    M = np.array(M)\n",
    "    v = M.sum(axis=0)\n",
    "    return v / np.sqrt((v ** 2).sum())\n",
    "\n",
    "\n",
    "def feature_engineering(df):\n",
    "    \"\"\"\n",
    "    Create features from the given data\n",
    "    :param df: The dataframe that contains questions\n",
    "    :return: None\n",
    "    \"\"\"\n",
    "    df['len_q1'] = df.q1.apply(lambda x: len(str(x)))\n",
    "    df['len_q2'] = df.q2.apply(lambda x: len(str(x)))\n",
    "    df['diff_len'] = df.len_q1 - df.len_q2\n",
    "    df['len_char_q1'] = df.q1.apply(lambda x: len(''.join(set(str(x).replace(' ', '')))))\n",
    "    df['len_char_q2'] = df.q2.apply(lambda x: len(''.join(set(str(x).replace(' ', '')))))\n",
    "    df['len_word_q1'] = df.q1.apply(lambda x: len(str(x).split()))\n",
    "    df['len_word_q2'] = df.q2.apply(lambda x: len(str(x).split()))\n",
    "    df['common_words'] = df.apply(lambda x: len(set(str(x['q1']).lower().split()).intersection(set(str(x['q2']).lower()\n",
    "                                                                                                   .split()))), axis=1)\n",
    "    df['fuzz_ratio'] = df.apply(lambda x: fuzz.ratio(str(x['q1']), str(x['q2'])), axis=1)\n",
    "    df['fuzz_partial_ratio'] = df.apply(lambda x: fuzz.partial_ratio(str(x['q1']), str(x['q2'])), axis=1)\n",
    "    df['fuzz_partial_token_set_ratio'] = df.apply(lambda x: fuzz.partial_token_set_ratio(str(x['q1']), str(x['q2'])),\n",
    "                                                  axis=1)\n",
    "    df['fuzz_partial_token_sort_ratio'] = df.apply(lambda x: fuzz.partial_token_sort_ratio(str(x['q1']), str(x['q2'])),\n",
    "                                                   axis=1)\n",
    "    df['fuzz_token_set_ratio'] = df.apply(lambda x: fuzz.token_set_ratio(str(x['q1']), str(x['q2'])), axis=1)\n",
    "    df['fuzz_token_sort_ratio'] = df.apply(lambda x: fuzz.token_sort_ratio(str(x['q1']), str(x['q2'])), axis=1)\n",
    "\n",
    "\n",
    "\n",
    "def distances(df):\n",
    "    \"\"\"\n",
    "    Calcuate distances between the questions\n",
    "    :param df: The dataframe\n",
    "    :return: None\n",
    "    \"\"\"\n",
    "    \n",
    "    q1_vectors = np.zeros((df.shape[0], 300))\n",
    "    for i, q in enumerate(tqdm_notebook(df.q1.values)):\n",
    "        q1_vectors[i, :] = sent2vec(q)\n",
    "\n",
    "    q2_vectors  = np.zeros((df.shape[0], 300))\n",
    "    for i, q in enumerate(tqdm_notebook(df.q2.values)):\n",
    "        q2_vectors[i, :] = sent2vec(q)\n",
    "    df['norm_wmd'] = df.apply(lambda x: norm_wmd(x['q1'], x['q2']), axis=1)\n",
    "    df['cosine_distance'] = [cosine(x, y) for (x, y) in zip(np.nan_to_num(q1_vectors),\n",
    "                                                            np.nan_to_num(q2_vectors))]\n",
    "    df['cityblock_distance'] = [cityblock(x, y) for (x, y) in zip(np.nan_to_num(q1_vectors),\n",
    "                                                                  np.nan_to_num(q2_vectors))]\n",
    "    df['jaccard_distance'] = [jaccard(x, y) for (x, y) in zip(np.nan_to_num(q1_vectors),\n",
    "                                                              np.nan_to_num(q2_vectors))]\n",
    "    df['canberra_distance'] = [canberra(x, y) for (x, y) in zip(np.nan_to_num(q1_vectors),\n",
    "                                                                np.nan_to_num(q2_vectors))]\n",
    "    df['euclidean_distance'] = [euclidean(x, y) for (x, y) in zip(np.nan_to_num(q1_vectors),\n",
    "                                                                  np.nan_to_num(q2_vectors))]\n",
    "    df['minkowski_distance'] = [minkowski(x, y, 3) for (x, y) in zip(np.nan_to_num(q1_vectors),\n",
    "                                                                     np.nan_to_num(q2_vectors))]\n",
    "    df['braycurtis_distance'] = [braycurtis(x, y) for (x, y) in zip(np.nan_to_num(q1_vectors),\n",
    "                                                                    np.nan_to_num(q2_vectors))]\n",
    "    df['skew_q1vec'] = [skew(x) for x in np.nan_to_num(q1_vectors)]\n",
    "    df['skew_q2vec'] = [skew(x) for x in np.nan_to_num(q2_vectors)]\n",
    "    df['kur_q1vec'] = [kurtosis(x) for x in np.nan_to_num(q1_vectors)]\n",
    "    df['kur_q2vec'] = [kurtosis(x) for x in np.nan_to_num(q2_vectors)]"
   ]
  },
  {
   "cell_type": "markdown",
   "metadata": {},
   "source": [
    "## Apply feature engineering using train dataset"
   ]
  },
  {
   "cell_type": "code",
   "execution_count": 6,
   "metadata": {
    "collapsed": false,
    "jupyter": {
     "outputs_hidden": false
    },
    "pycharm": {
     "name": "#%%\n"
    }
   },
   "outputs": [
    {
     "name": "stderr",
     "output_type": "stream",
     "text": [
      "<ipython-input-5-d8b5b70f00d5>:75: TqdmDeprecationWarning: This function will be removed in tqdm==5.0.0\n",
      "Please use `tqdm.notebook.tqdm` instead of `tqdm.tqdm_notebook`\n",
      "  for i, q in enumerate(tqdm_notebook(df.q1.values)):\n"
     ]
    },
    {
     "data": {
      "application/vnd.jupyter.widget-view+json": {
       "model_id": "cbbdbc57b6c942e7bb5df32944df8676",
       "version_major": 2,
       "version_minor": 0
      },
      "text/plain": [
       "  0%|          | 0/283004 [00:00<?, ?it/s]"
      ]
     },
     "metadata": {},
     "output_type": "display_data"
    },
    {
     "name": "stderr",
     "output_type": "stream",
     "text": [
      "<ipython-input-5-d8b5b70f00d5>:38: RuntimeWarning: invalid value encountered in double_scalars\n",
      "  return v / np.sqrt((v ** 2).sum())\n",
      "<ipython-input-5-d8b5b70f00d5>:79: TqdmDeprecationWarning: This function will be removed in tqdm==5.0.0\n",
      "Please use `tqdm.notebook.tqdm` instead of `tqdm.tqdm_notebook`\n",
      "  for i, q in enumerate(tqdm_notebook(df.q2.values)):\n"
     ]
    },
    {
     "data": {
      "application/vnd.jupyter.widget-view+json": {
       "model_id": "1ca4665be2bf4f028ce78e3ddd40d06f",
       "version_major": 2,
       "version_minor": 0
      },
      "text/plain": [
       "  0%|          | 0/283004 [00:00<?, ?it/s]"
      ]
     },
     "metadata": {},
     "output_type": "display_data"
    },
    {
     "name": "stderr",
     "output_type": "stream",
     "text": [
      "/home/vangelis/.virtualenvs/big-data-analytics/lib/python3.8/site-packages/scipy/spatial/distance.py:728: RuntimeWarning: invalid value encountered in double_scalars\n",
      "  dist = 1.0 - uv / np.sqrt(uu * vv)\n",
      "/home/vangelis/.virtualenvs/big-data-analytics/lib/python3.8/site-packages/scipy/spatial/distance.py:1186: RuntimeWarning: invalid value encountered in double_scalars\n",
      "  return l1_diff.sum() / l1_sum.sum()\n"
     ]
    }
   ],
   "source": [
    "feature_engineering(train_df)\n",
    "distances(train_df)\n",
    "\n",
    "train_df.drop(['q1', 'q2'], axis=1, inplace=True)\n",
    "\n",
    "train_df = train_df.replace([np.inf, -np.inf], np.nan)\n",
    "train_df = train_df[pd.notnull(train_df['norm_wmd'])]\n",
    "train_df = train_df[pd.notnull(train_df['cosine_distance'])]\n",
    "train_df = train_df[pd.notnull(train_df['jaccard_distance'])]\n",
    "train_df = train_df[pd.notnull(train_df['braycurtis_distance'])]\n",
    "\n",
    "\n",
    "X = train_df.loc[:, train_df.columns != 'is_dup']\n",
    "y = train_df.loc[:, train_df.columns == 'is_dup']"
   ]
  },
  {
   "cell_type": "markdown",
   "metadata": {},
   "source": [
    "## XGBoost model"
   ]
  },
  {
   "cell_type": "code",
   "execution_count": 11,
   "metadata": {
    "collapsed": false,
    "jupyter": {
     "outputs_hidden": false
    },
    "pycharm": {
     "name": "#%%\n"
    }
   },
   "outputs": [],
   "source": [
    "xgb_model = xgb.XGBClassifier(max_depth=20, n_estimators=1000, learning_rate=0.1, objective='binary:logistic', eta=0.2,\n",
    "                              use_label_encoder=False, tree_method='gpu_hist', gpu_id=0)\n"
   ]
  },
  {
   "cell_type": "markdown",
   "metadata": {},
   "source": [
    "## Random Forest model"
   ]
  },
  {
   "cell_type": "code",
   "execution_count": 12,
   "metadata": {},
   "outputs": [],
   "source": [
    "rf_model = RandomForestClassifier(n_estimators=1000, max_features='sqrt', n_jobs=4)"
   ]
  },
  {
   "cell_type": "markdown",
   "metadata": {},
   "source": [
    "## Logistic Regression model"
   ]
  },
  {
   "cell_type": "code",
   "execution_count": 13,
   "metadata": {},
   "outputs": [],
   "source": [
    "lg_model = LogisticRegression(random_state=0, n_jobs=4)"
   ]
  },
  {
   "cell_type": "markdown",
   "metadata": {},
   "source": [
    "## 5-fold Stratified Cross Validation"
   ]
  },
  {
   "cell_type": "code",
   "execution_count": 14,
   "metadata": {
    "collapsed": false,
    "jupyter": {
     "outputs_hidden": false
    },
    "pycharm": {
     "name": "#%%\n"
    }
   },
   "outputs": [
    {
     "name": "stdout",
     "output_type": "stream",
     "text": [
      "[14:28:52] WARNING: ../src/learner.cc:1061: Starting in XGBoost 1.3.0, the default evaluation metric used with the objective 'binary:logistic' was changed from 'error' to 'logloss'. Explicitly set eval_metric if you'd like to restore the old behavior.\n",
      "[14:34:12] WARNING: ../src/learner.cc:1061: Starting in XGBoost 1.3.0, the default evaluation metric used with the objective 'binary:logistic' was changed from 'error' to 'logloss'. Explicitly set eval_metric if you'd like to restore the old behavior.\n",
      "[14:39:24] WARNING: ../src/learner.cc:1061: Starting in XGBoost 1.3.0, the default evaluation metric used with the objective 'binary:logistic' was changed from 'error' to 'logloss'. Explicitly set eval_metric if you'd like to restore the old behavior.\n",
      "[14:44:32] WARNING: ../src/learner.cc:1061: Starting in XGBoost 1.3.0, the default evaluation metric used with the objective 'binary:logistic' was changed from 'error' to 'logloss'. Explicitly set eval_metric if you'd like to restore the old behavior.\n",
      "[14:49:55] WARNING: ../src/learner.cc:1061: Starting in XGBoost 1.3.0, the default evaluation metric used with the objective 'binary:logistic' was changed from 'error' to 'logloss'. Explicitly set eval_metric if you'd like to restore the old behavior.\n",
      "{'fit_time': array([318.87135053, 311.40445852, 306.5726943 , 321.29633522,\n",
      "       333.80769634]), 'score_time': array([1.17835832, 1.14907217, 1.19350028, 1.65392399, 1.68466473]), 'test_accuracy': array([0.76886047, 0.76738483, 0.76329749, 0.76507775, 0.76634937]), 'test_precision_macro': array([0.75425056, 0.75266819, 0.74835591, 0.75049753, 0.75174832]), 'test_recall_macro': array([0.76080535, 0.75900318, 0.75435104, 0.75756505, 0.75862168]), 'test_f1_macro': array([0.75689471, 0.75524242, 0.75081197, 0.75325853, 0.75446665])}\n",
      "{'fit_time': array([371.79852581, 373.57594609, 372.82512641, 356.82771182,\n",
      "       381.87682462]), 'score_time': array([5.68806458, 5.38060093, 5.13228822, 4.77278042, 5.21652508]), 'test_accuracy': array([0.7560537 , 0.75595844, 0.75624909, 0.75530446, 0.75761154]), 'test_precision_macro': array([0.74314014, 0.74273461, 0.74297464, 0.74229032, 0.74424868]), 'test_recall_macro': array([0.75382363, 0.75297272, 0.75313785, 0.75281866, 0.75427006]), 'test_f1_macro': array([0.7462318 , 0.74583539, 0.7460805 , 0.74537236, 0.74737505])}\n",
      "{'fit_time': array([11.34070778,  7.96209669, 15.62633109,  8.48650885, 14.81961441]), 'score_time': array([0.10369778, 0.09796524, 0.09843636, 0.10188007, 0.11815286]), 'test_accuracy': array([0.65583389, 0.6578259 , 0.65911568, 0.65662694, 0.66153175]), 'test_precision_macro': array([0.62691871, 0.62766723, 0.62953273, 0.62610379, 0.63323288]), 'test_recall_macro': array([0.61609154, 0.60906045, 0.61282401, 0.60706989, 0.62049086]), 'test_f1_macro': array([0.61845105, 0.61083794, 0.61500571, 0.60863948, 0.62310081])}\n"
     ]
    }
   ],
   "source": [
    "skf = StratifiedKFold(n_splits=5, random_state=1, shuffle=True)\n",
    "\n",
    "scores_xgb = cross_validate(xgb_model, X, y.values.ravel(),\n",
    "                           scoring=['accuracy', 'precision_macro', 'recall_macro', 'f1_macro'],\n",
    "                           cv=skf,\n",
    "                           return_train_score=False)\n",
    "print(scores_xgb)\n",
    "\n",
    "\n",
    "skf = StratifiedKFold(n_splits=5, random_state=3, shuffle=True)\n",
    "\n",
    "scores_rf = cross_validate(rf_model, X, y.values.ravel(),\n",
    "                           scoring=['accuracy', 'precision_macro', 'recall_macro', 'f1_macro'],\n",
    "                           cv=skf,\n",
    "                           return_train_score=False)\n",
    "print(scores_rf)\n",
    "\n",
    "skf = StratifiedKFold(n_splits=5, random_state=5, shuffle=True)\n",
    "\n",
    "scores_lg = cross_validate(lg_model, X, y.values.ravel(),\n",
    "                           scoring=['accuracy', 'precision_macro', 'recall_macro', 'f1_macro'],\n",
    "                           cv=skf,\n",
    "                           return_train_score=False)\n",
    "print(scores_lg)"
   ]
  },
  {
   "cell_type": "markdown",
   "metadata": {},
   "source": [
    "## Stats table"
   ]
  },
  {
   "cell_type": "code",
   "execution_count": 15,
   "metadata": {},
   "outputs": [
    {
     "data": {
      "image/png": "[encoded data removed]",
      "text/plain": [
       "<Figure size 900x600 with 1 Axes>"
      ]
     },
     "metadata": {
      "needs_background": "light"
     },
     "output_type": "display_data"
    }
   ],
   "source": [
    "data_table = [[np.mean(scores_xgb['test_accuracy'], dtype='float64'),\n",
    "              np.mean(scores_rf['test_accuracy'], dtype='float64'),\n",
    "              np.mean(scores_lg['test_accuracy'], dtype='float64')],\n",
    "              [np.mean(scores_xgb['test_precision_macro'], dtype='float64'),\n",
    "              np.mean(scores_rf['test_precision_macro'], dtype='float64'),\n",
    "              np.mean(scores_lg['test_precision_macro'], dtype='float64')],\n",
    "              [np.mean(scores_xgb['test_recall_macro'], dtype='float64'),\n",
    "              np.mean(scores_rf['test_recall_macro'], dtype='float64'),\n",
    "              np.mean(scores_lg['test_recall_macro'], dtype='float64')],\n",
    "              [np.mean(scores_xgb['test_f1_macro'], dtype='float64'),\n",
    "              np.mean(scores_rf['test_f1_macro'], dtype='float64'),\n",
    "              np.mean(scores_lg['test_f1_macro'], dtype='float64')]\n",
    "              ]\n",
    "\n",
    "cell_text = []\n",
    "for row in data_table:\n",
    "    cell_text.append([f'{x:1.5f}' for x in row])\n",
    "\n",
    "plt.figure(dpi=150)\n",
    "ax = plt.gca()\n",
    "ax.get_xaxis().set_visible(False)\n",
    "ax.get_yaxis().set_visible(False)\n",
    "plt.box(on=None)\n",
    "plt.subplots_adjust(left=0.2, bottom=0.2)\n",
    "\n",
    "the_table = plt.table(cellText=cell_text,\n",
    "                      rowLabels=['Accuracy', 'Precision', 'Recall', 'F1-Score'],\n",
    "                      colLabels=['XGBoost', 'Random Forest', 'Logistic Regression'],\n",
    "                      colColours=['lightsteelblue'] * 3,\n",
    "                      rowColours=['lightsteelblue'] * 4,\n",
    "                      loc='center')\n",
    "the_table.scale(1, 1.5)\n",
    "fig = plt.gcf()\n",
    "plt.show()"
   ]
  },
  {
   "cell_type": "markdown",
   "metadata": {},
   "source": [
    "## Test set prediction"
   ]
  },
  {
   "cell_type": "code",
   "execution_count": 16,
   "metadata": {},
   "outputs": [
    {
     "name": "stderr",
     "output_type": "stream",
     "text": [
      "<ipython-input-5-d8b5b70f00d5>:75: TqdmDeprecationWarning: This function will be removed in tqdm==5.0.0\n",
      "Please use `tqdm.notebook.tqdm` instead of `tqdm.tqdm_notebook`\n",
      "  for i, q in enumerate(tqdm_notebook(df.q1.values)):\n"
     ]
    },
    {
     "data": {
      "application/vnd.jupyter.widget-view+json": {
       "model_id": "3e2a0cf16a8243bc8e45e1bde78be987",
       "version_major": 2,
       "version_minor": 0
      },
      "text/plain": [
       "  0%|          | 0/121287 [00:00<?, ?it/s]"
      ]
     },
     "metadata": {},
     "output_type": "display_data"
    },
    {
     "name": "stderr",
     "output_type": "stream",
     "text": [
      "<ipython-input-5-d8b5b70f00d5>:38: RuntimeWarning: invalid value encountered in double_scalars\n",
      "  return v / np.sqrt((v ** 2).sum())\n",
      "<ipython-input-5-d8b5b70f00d5>:79: TqdmDeprecationWarning: This function will be removed in tqdm==5.0.0\n",
      "Please use `tqdm.notebook.tqdm` instead of `tqdm.tqdm_notebook`\n",
      "  for i, q in enumerate(tqdm_notebook(df.q2.values)):\n"
     ]
    },
    {
     "data": {
      "application/vnd.jupyter.widget-view+json": {
       "model_id": "45ce68bf15a04da083b542412400fcdc",
       "version_major": 2,
       "version_minor": 0
      },
      "text/plain": [
       "  0%|          | 0/121287 [00:00<?, ?it/s]"
      ]
     },
     "metadata": {},
     "output_type": "display_data"
    },
    {
     "name": "stderr",
     "output_type": "stream",
     "text": [
      "/home/vangelis/.virtualenvs/big-data-analytics/lib/python3.8/site-packages/scipy/spatial/distance.py:728: RuntimeWarning: invalid value encountered in double_scalars\n",
      "  dist = 1.0 - uv / np.sqrt(uu * vv)\n",
      "/home/vangelis/.virtualenvs/big-data-analytics/lib/python3.8/site-packages/scipy/spatial/distance.py:1186: RuntimeWarning: invalid value encountered in double_scalars\n",
      "  return l1_diff.sum() / l1_sum.sum()\n"
     ]
    },
    {
     "name": "stdout",
     "output_type": "stream",
     "text": [
      "[15:35:05] WARNING: ../src/learner.cc:1061: Starting in XGBoost 1.3.0, the default evaluation metric used with the objective 'binary:logistic' was changed from 'error' to 'logloss'. Explicitly set eval_metric if you'd like to restore the old behavior.\n"
     ]
    }
   ],
   "source": [
    "test_df = pd.read_csv('../assist_material/datasets/extracted/q2b/test_without_labels.csv', sep=',')\n",
    "test_df.columns = ['id', 'q1', 'q2']\n",
    "\n",
    "feature_engineering(test_df)\n",
    "distances(test_df)\n",
    "\n",
    "test_df.drop(['q1', 'q2'], axis=1, inplace=True)\n",
    "\n",
    "# If NaN encountered set large distances (0<=dist<=1)\n",
    "test_df['cosine_distance'] = test_df['cosine_distance'].fillna(0.9)\n",
    "test_df['jaccard_distance'] = test_df['jaccard_distance'].fillna(0.9)\n",
    "test_df['braycurtis_distance'] = test_df['braycurtis_distance'].fillna(0.9)\n",
    "\n",
    "X_test = test_df\n",
    "\n",
    "xgb_model.fit(X, y.values.ravel())\n",
    "y_pred = xgb_model.predict(X_test)"
   ]
  },
  {
   "cell_type": "code",
   "execution_count": 17,
   "metadata": {},
   "outputs": [],
   "source": [
    "prediction = pd.DataFrame(data={'Id': test_df['id'], 'Expected': y_pred}).to_csv('duplicate_predictions.csv', index=False)"
   ]
  }
 ],
 "metadata": {
  "kernelspec": {
   "display_name": "Python 3",
   "language": "python",
   "name": "python3"
  },
  "language_info": {
   "codemirror_mode": {
    "name": "ipython",
    "version": 3
   },
   "file_extension": ".py",
   "mimetype": "text/x-python",
   "name": "python",
   "nbconvert_exporter": "python",
   "pygments_lexer": "ipython3",
   "version": "3.8.5"
  }
 },
 "nbformat": 4,
 "nbformat_minor": 4
}
